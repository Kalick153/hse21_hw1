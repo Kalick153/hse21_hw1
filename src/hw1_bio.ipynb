{
 "cells": [
  {
   "cell_type": "code",
   "execution_count": null,
   "metadata": {},
   "outputs": [],
   "source": []
  },
  {
   "cell_type": "code",
   "execution_count": null,
   "metadata": {},
   "outputs": [],
   "source": [
    "\n"
   ]
  },
  {
   "cell_type": "markdown",
   "metadata": {},
   "source": [
    "# Анализ контигов"
   ]
  },
  {
   "cell_type": "code",
   "execution_count": 43,
   "metadata": {},
   "outputs": [
    {
     "name": "stdout",
     "output_type": "stream",
     "text": [
      "Общее количество контигов:  {599}\n",
      "Их общая длина:  {3924044}\n",
      "Длина самого длинного контига:  {179307}\n",
      "N50:  44474\n"
     ]
    }
   ],
   "source": [
    "contig = [el.split('\\n')[:-1] for el in ''.join(open('contig.fasta').readlines()).split('>')[1:]]\n",
    "lgs_c = [len(''.join(el[1:])) for el in contig]\n",
    "lgs_c.sort(reverse=True)\n",
    "count, sm = 0, 0\n",
    "while sm < sum(lgs_c) // 2:\n",
    "    sm += lgs_c[count]\n",
    "    count += 1\n",
    "\n",
    "print(\"Общее количество контигов: \", {len(lgs_c)})\n",
    "print(\"Их общая длина: \", {sum(lgs_c)})\n",
    "print(\"Длина самого длинного контига: \", {max(lgs_c)})\n",
    "print(\"N50: \",  lgs_c[count])"
   ]
  },
  {
   "cell_type": "markdown",
   "metadata": {},
   "source": [
    "# Анализ скаффолдов  "
   ]
  },
  {
   "cell_type": "code",
   "execution_count": 44,
   "metadata": {},
   "outputs": [
    {
     "name": "stdout",
     "output_type": "stream",
     "text": [
      "Общее количество скаффолдов:  66\n",
      "Их общая длина:  3874075\n",
      "Длина самого длинного скаффолда:  3834421\n",
      "N50:  4645\n"
     ]
    }
   ],
   "source": [
    "contig = [el.split('\\n')[:-1] for el in ''.join(open('scaffold.fasta').readlines()).split('>')[1:]]\n",
    "lgs_c = [len(''.join(el[1:])) for el in contig]\n",
    "lgs_c.sort(reverse=True)\n",
    "count, sm = 0, 0\n",
    "while sm < sum(lgs_c) // 2:\n",
    "    sm += lgs_c[count]\n",
    "    count += 1\n",
    "\n",
    "print(\"Общее количество скаффолдов: \", len(lgs_c))\n",
    "print(\"Их общая длина: \", sum(lgs_c))\n",
    "print(\"Длина самого длинного скаффолда: \", max(lgs_c))\n",
    "print(\"N50: \",  lgs_c[count])"
   ]
  },
  {
   "cell_type": "code",
   "execution_count": null,
   "metadata": {},
   "outputs": [],
   "source": []
  },
  {
   "cell_type": "markdown",
   "metadata": {},
   "source": [
    "#  Самый длинный \n"
   ]
  },
  {
   "cell_type": "code",
   "execution_count": 45,
   "metadata": {},
   "outputs": [],
   "source": [
    "scaff = [el.split('\\n')[:-1] for el in ''.join(open('Poil_scaffold.fa').readlines()).split('>')[1:]]"
   ]
  },
  {
   "cell_type": "code",
   "execution_count": 46,
   "metadata": {},
   "outputs": [
    {
     "name": "stdout",
     "output_type": "stream",
     "text": [
      "Общая длина гэпов до обрезки: 6623\n",
      "Всего гэпов до обрезки: 62\n",
      "Общая длина гэпов после обрезки: 1051\n",
      "Всего гэпов после обрезки: 5\n"
     ]
    }
   ],
   "source": [
    "\n",
    "lgs_g0 = [''.join(el[1:]) for el in scaff]\n",
    "max_lg0 = max(lgs_g0, key=len)\n",
    "lg0 = max_lg0.count('N')\n",
    "\n",
    "count0 = 0\n",
    "for i in range(1, len(max_lg0)):\n",
    "    if max_lg0[i] == 'N' and max_lg0[i-1] != 'N':\n",
    "        count0 += 1\n",
    "        \n",
    "gap = [el.split('\\n')[:-1] for el in ''.join(open('Poil_gapClosed.fa').readlines()).split('>')[1:]]\n",
    "max_lg1 = max([(''.join(el[1:])) for el in gap], key=len)\n",
    "lg1 = max_lg1.count('N')\n",
    "\n",
    "count1 = 0\n",
    "for i in range(1, len(max_lg1)):\n",
    "    if max_lg1[i] == 'N' and max_lg1[i-1] != 'N':\n",
    "        count1 += 1\n",
    "\n",
    "print(f'Общая длина гэпов до обрезки: {lg0}', f'Всего гэпов до обрезки: {count0}', f'Общая длина гэпов после обрезки: {lg1}', f'Всего гэпов после обрезки: {count1}', sep='\\n')"
   ]
  },
  {
   "cell_type": "code",
   "execution_count": null,
   "metadata": {},
   "outputs": [],
   "source": []
  },
  {
   "cell_type": "code",
   "execution_count": null,
   "metadata": {},
   "outputs": [],
   "source": []
  },
  {
   "cell_type": "code",
   "execution_count": null,
   "metadata": {},
   "outputs": [],
   "source": []
  },
  {
   "cell_type": "code",
   "execution_count": null,
   "metadata": {},
   "outputs": [],
   "source": []
  },
  {
   "cell_type": "code",
   "execution_count": null,
   "metadata": {},
   "outputs": [],
   "source": []
  }
 ],
 "metadata": {
  "kernelspec": {
   "display_name": "Python 3",
   "language": "python",
   "name": "python3"
  },
  "language_info": {
   "codemirror_mode": {
    "name": "ipython",
    "version": 3
   },
   "file_extension": ".py",
   "mimetype": "text/x-python",
   "name": "python",
   "nbconvert_exporter": "python",
   "pygments_lexer": "ipython3",
   "version": "3.7.4"
  }
 },
 "nbformat": 4,
 "nbformat_minor": 4
}
